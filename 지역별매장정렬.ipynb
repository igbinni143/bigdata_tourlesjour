{
 "cells": [
  {
   "cell_type": "code",
   "execution_count": 2,
   "id": "ec0cff02-b098-4e52-9fc5-731412e8666c",
   "metadata": {},
   "outputs": [
    {
     "data": {
      "text/html": [
       "<div>\n",
       "<style scoped>\n",
       "    .dataframe tbody tr th:only-of-type {\n",
       "        vertical-align: middle;\n",
       "    }\n",
       "\n",
       "    .dataframe tbody tr th {\n",
       "        vertical-align: top;\n",
       "    }\n",
       "\n",
       "    .dataframe thead th {\n",
       "        text-align: right;\n",
       "    }\n",
       "</style>\n",
       "<table border=\"1\" class=\"dataframe\">\n",
       "  <thead>\n",
       "    <tr style=\"text-align: right;\">\n",
       "      <th></th>\n",
       "      <th>매장</th>\n",
       "      <th>주소</th>\n",
       "      <th>지역</th>\n",
       "    </tr>\n",
       "  </thead>\n",
       "  <tbody>\n",
       "    <tr>\n",
       "      <th>0</th>\n",
       "      <td>뚜레쥬르 강릉합동마트</td>\n",
       "      <td>강원특별자치도 강릉시 경강로2224번길 12-1 (포남동) 1층 뚜레쥬르</td>\n",
       "      <td>강원도</td>\n",
       "    </tr>\n",
       "    <tr>\n",
       "      <th>1</th>\n",
       "      <td>뚜레쥬르 강릉중앙시장</td>\n",
       "      <td>강원특별자치도 강릉시 곶감전길 1-1 (성남동)</td>\n",
       "      <td>강원도</td>\n",
       "    </tr>\n",
       "    <tr>\n",
       "      <th>2</th>\n",
       "      <td>뚜레쥬르 강릉교동</td>\n",
       "      <td>강원특별자치도 강릉시 교동광장로 139 (교동) 뚜레쥬르 강릉교동점</td>\n",
       "      <td>강원도</td>\n",
       "    </tr>\n",
       "    <tr>\n",
       "      <th>3</th>\n",
       "      <td>뚜레쥬르 강릉내곡</td>\n",
       "      <td>강원특별자치도 강릉시 범일로 653 (내곡동)</td>\n",
       "      <td>강원도</td>\n",
       "    </tr>\n",
       "    <tr>\n",
       "      <th>4</th>\n",
       "      <td>뚜레쥬르 강릉유천하나로</td>\n",
       "      <td>강원특별자치도 강릉시 선수촌로 63번길 14-8</td>\n",
       "      <td>강원도</td>\n",
       "    </tr>\n",
       "  </tbody>\n",
       "</table>\n",
       "</div>"
      ],
      "text/plain": [
       "             매장                                        주소   지역\n",
       "0   뚜레쥬르 강릉합동마트  강원특별자치도 강릉시 경강로2224번길 12-1 (포남동) 1층 뚜레쥬르  강원도\n",
       "1   뚜레쥬르 강릉중앙시장                강원특별자치도 강릉시 곶감전길 1-1 (성남동)  강원도\n",
       "2     뚜레쥬르 강릉교동     강원특별자치도 강릉시 교동광장로 139 (교동) 뚜레쥬르 강릉교동점  강원도\n",
       "3     뚜레쥬르 강릉내곡                 강원특별자치도 강릉시 범일로 653 (내곡동)  강원도\n",
       "4  뚜레쥬르 강릉유천하나로                강원특별자치도 강릉시 선수촌로 63번길 14-8  강원도"
      ]
     },
     "execution_count": 2,
     "metadata": {},
     "output_type": "execute_result"
    }
   ],
   "source": [
    "import pandas as pd\n",
    "\n",
    "# 파일 경로 설정\n",
    "file_path = './뚜레쥬르_매장정보_정렬.csv'\n",
    "\n",
    "# CSV 파일 불러오기\n",
    "df = pd.read_csv(file_path)\n",
    "\n",
    "# 지역 구분에 사용할 키워드 정의 (경기도 우선 적용)\n",
    "regions_keywords = {\n",
    "    '경기도': ['경기'],  # 경기도를 가장 먼저 적용\n",
    "    '강원도': ['강원', '강원특별자치도'],\n",
    "    '서울': ['서울'],\n",
    "    '충북': ['충북', '충청북도'],\n",
    "    '충남': ['충남', '충청남도'],\n",
    "    '경남':['경남','경상남도'],\n",
    "    '경북' :['경북','경상북도'],\n",
    "    '전북': ['전북', '전라북도'],\n",
    "    '전남': ['전남', '전라남도'],\n",
    "    '광역시': [r'\\b부산\\b', r'\\b대구\\b', r'\\b인천\\b', r'\\b광주\\b', r'\\b대전\\b', r'\\b울산\\b', r'\\b세종\\b','부산광역시','대구광역시','인천광역시','광주광역시','대전광역시','울산광역시','세종광역시']  # \\b는 정확한 단어 매칭\n",
    "}\n",
    "\n",
    "# 지역 컬럼 추가 및 초기화\n",
    "df['지역'] = None\n",
    "\n",
    "# 각 주소에 해당하는 지역 할당 (우선순위에 맞춰 지역 할당)\n",
    "for region, keywords in regions_keywords.items():\n",
    "    df.loc[df['주소'].str.contains('|'.join(keywords)), '지역'] = region\n",
    "\n",
    "# 지역별로 데이터프레임 분할\n",
    "region_dfs = {region: df[df['지역'] == region] for region in regions_keywords.keys()}\n",
    "\n",
    "# 각 지역의 데이터프레임을 개별 CSV 파일로 저장 (원할 경우 사용)\n",
    "for region, region_df in region_dfs.items():\n",
    "    region_df.to_csv(f'뚜레쥬르_매장정보_{region}.csv', index=False)\n",
    "\n",
    "# 결과 확인을 위해 전체 데이터프레임 출력\n",
    "df.head()"
   ]
  },
  {
   "cell_type": "code",
   "execution_count": 3,
   "id": "3e0c8992-60f2-4995-bd48-e89d40535a94",
   "metadata": {},
   "outputs": [],
   "source": [
    "gyeonggi_file_path ='./뚜레쥬르_매장정보_경기도.csv'\n",
    "df_gyeonggi = pd.read_csv(gyeonggi_file_path)\n",
    "df_gyeonggi.head()\n",
    "df_gyeonggi['주소'] =  df_gyeonggi['주소'].str.replace(r'^경기\\s', '경기도 ', regex=True)\n",
    "df_gyeonggi\n",
    "\n",
    "save_path = './adress_process/뚜레쥬르_매장정보_경기도_수정.csv'\n",
    "df_gyeonggi.to_csv(save_path, index=False, encoding='utf-8-sig')\n",
    "\n",
    "# df_gyeonggi.to_csv(gyeonggi_file_path, index=False, encoding='utf-8-sig')"
   ]
  },
  {
   "cell_type": "code",
   "execution_count": 6,
   "id": "80f553ef-1d8f-4711-bd6a-56d1e0a96815",
   "metadata": {},
   "outputs": [],
   "source": [
    "seoul_file_path ='./뚜레쥬르_매장정보_서울.csv'\n",
    "df_seoul = pd.read_csv(seoul_file_path)\n",
    "df_seoul.head()\n",
    "df_seoul['주소'] =  df_seoul['주소'].str.replace(r'^서울\\s', '서울특별시 ', regex=True)\n",
    "df_seoul['주소'] =  df_seoul['주소'].str.replace(r'^서울시\\s', '서울특별시 ', regex=True)\n",
    "df_seoul\n",
    "\n",
    "save_path = './adress_process/뚜레쥬르_매장정보_서울_수정.csv'\n",
    "df_seoul.to_csv(save_path, index=False, encoding='utf-8-sig')"
   ]
  },
  {
   "cell_type": "code",
   "execution_count": 3,
   "id": "1926f895-3fbe-4391-b5ff-d7afd17a8a6a",
   "metadata": {},
   "outputs": [],
   "source": [
    "gangwon_file_path ='./뚜레쥬르_매장정보_강원도.csv'\n",
    "df_gangwon = pd.read_csv(gangwon_file_path)\n",
    "df_gangwon.head()\n",
    "df_gangwon['주소'] =  df_gangwon['주소'].str.replace(r'^강원\\s', '강원도 ', regex=True)\n",
    "df_gangwon\n",
    "\n",
    "save_path = './adress_process/뚜레쥬르_매장정보_강원도_수정.csv'\n",
    "df_gangwon.to_csv(save_path, index=False, encoding='utf-8-sig')"
   ]
  },
  {
   "cell_type": "code",
   "execution_count": 4,
   "id": "7b90de74-beba-4108-8972-2de89f9c0c20",
   "metadata": {},
   "outputs": [],
   "source": [
    "chungbuk_file_path ='./뚜레쥬르_매장정보_충북.csv'\n",
    "df_chungbuk = pd.read_csv(chungbuk_file_path)\n",
    "df_chungbuk.head()\n",
    "df_chungbuk['주소'] =  df_chungbuk['주소'].str.replace(r'^충북\\s', '충청북도 ', regex=True)\n",
    "df_chungbuk\n",
    "\n",
    "save_path = './adress_process/뚜레쥬르_매장정보_충청북도_수정.csv'\n",
    "df_chungbuk.to_csv(save_path, index=False, encoding='utf-8-sig')"
   ]
  },
  {
   "cell_type": "code",
   "execution_count": 5,
   "id": "14be496f-9453-431c-8056-ddafcbd89813",
   "metadata": {},
   "outputs": [],
   "source": [
    "chungnam_file_path ='./뚜레쥬르_매장정보_충남.csv'\n",
    "df_chungnam = pd.read_csv(chungnam_file_path)\n",
    "df_chungnam.head()\n",
    "df_chungnam['주소'] =  df_chungnam['주소'].str.replace(r'^충남\\s', '충청남도 ', regex=True)\n",
    "df_chungnam\n",
    "\n",
    "save_path = './adress_process/뚜레쥬르_매장정보_충청남도_수정.csv'\n",
    "df_chungnam.to_csv(save_path, index=False, encoding='utf-8-sig')"
   ]
  },
  {
   "cell_type": "code",
   "execution_count": 6,
   "id": "74d69528-ea4d-47f7-84a5-af195711c4cb",
   "metadata": {},
   "outputs": [],
   "source": [
    "gyeongnam_file_path ='./뚜레쥬르_매장정보_경남.csv'\n",
    "df_gyeongnam = pd.read_csv(gyeongnam_file_path)\n",
    "df_gyeongnam.head()\n",
    "df_gyeongnam['주소'] =  df_gyeongnam['주소'].str.replace(r'^경남\\s', '경상남도 ', regex=True)\n",
    "df_gyeongnam\n",
    "\n",
    "save_path = './adress_process/뚜레쥬르_매장정보_경상남도_수정.csv'\n",
    "df_gyeongnam.to_csv(save_path, index=False, encoding='utf-8-sig')"
   ]
  },
  {
   "cell_type": "code",
   "execution_count": 7,
   "id": "a3b15c98-a924-40bc-9e15-d4f75745c2a4",
   "metadata": {},
   "outputs": [],
   "source": [
    "gyeongbuk_file_path ='./뚜레쥬르_매장정보_경북.csv'\n",
    "df_gyeongbuk = pd.read_csv(gyeongbuk_file_path)\n",
    "df_gyeongbuk.head()\n",
    "df_gyeongbuk['주소'] =  df_gyeongbuk['주소'].str.replace(r'^경북\\s', '경상북도 ', regex=True)\n",
    "df_gyeongbuk\n",
    "\n",
    "save_path = './adress_process/뚜레쥬르_매장정보_경상북도_수정.csv'\n",
    "df_gyeongbuk.to_csv(save_path, index=False, encoding='utf-8-sig')"
   ]
  },
  {
   "cell_type": "code",
   "execution_count": 8,
   "id": "95fad578-a490-4941-b831-30261d1a60e5",
   "metadata": {},
   "outputs": [],
   "source": [
    "jeonnam_file_path ='./뚜레쥬르_매장정보_전남.csv'\n",
    "df_jeonnam = pd.read_csv(jeonnam_file_path)\n",
    "df_jeonnam.head()\n",
    "df_jeonnam['주소'] =  df_jeonnam['주소'].str.replace(r'^전남\\s', '전라남도 ', regex=True)\n",
    "df_jeonnam\n",
    "\n",
    "save_path = './adress_process/뚜레쥬르_매장정보_전라남도_수정.csv'\n",
    "df_jeonnam.to_csv(save_path, index=False, encoding='utf-8-sig')"
   ]
  },
  {
   "cell_type": "code",
   "execution_count": 9,
   "id": "ceda4886-98f1-43e8-a716-33af76553693",
   "metadata": {},
   "outputs": [],
   "source": [
    "jeonbuk_file_path ='./뚜레쥬르_매장정보_전북.csv'\n",
    "df_jeonbuk = pd.read_csv(jeonbuk_file_path)\n",
    "df_jeonbuk.head()\n",
    "df_jeonbuk['주소'] =  df_jeonbuk['주소'].str.replace(r'^전북\\s', '전라북도 ', regex=True)\n",
    "df_jeonbuk\n",
    "\n",
    "save_path = './adress_process/뚜레쥬르_매장정보_전라북도_수정.csv'\n",
    "df_jeonbuk.to_csv(save_path, index=False, encoding='utf-8-sig')"
   ]
  }
 ],
 "metadata": {
  "kernelspec": {
   "display_name": "Python 3 (ipykernel)",
   "language": "python",
   "name": "python3"
  },
  "language_info": {
   "codemirror_mode": {
    "name": "ipython",
    "version": 3
   },
   "file_extension": ".py",
   "mimetype": "text/x-python",
   "name": "python",
   "nbconvert_exporter": "python",
   "pygments_lexer": "ipython3",
   "version": "3.12.4"
  }
 },
 "nbformat": 4,
 "nbformat_minor": 5
}
